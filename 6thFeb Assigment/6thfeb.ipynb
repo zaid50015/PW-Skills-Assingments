{
 "cells": [
  {
   "attachments": {},
   "cell_type": "markdown",
   "metadata": {},
   "source": [
    "Q1. Create a function which will take a list as an argument and return the product of all the numbers\n",
    "after creating a flat list.\n",
    "Use the below-given list as an argument for your function.\n",
    "\n",
    "list1 = [1,2,3,4, [44,55,66, True], False, (34,56,78,89,34), {1,2,3,3,2,1}, {1:34, \"key2\": [55, 67, 78, 89], 4: (45,\n",
    "22, 61, 34)}, [56, 'data science'], 'Machine Learning']\n",
    "\n",
    "Note: you must extract numeric keys and values of the dictionary also."
   ]
  },
  {
   "cell_type": "code",
   "execution_count": 17,
   "metadata": {},
   "outputs": [
    {
     "name": "stdout",
     "output_type": "stream",
     "text": [
      "{1: 34, 'key2': [55, 67, 78, 89], 4: (45, 22, 61, 34)}\n",
      "34\n",
      "[1, 2, 3, 4, 44, 55, 66, True, False, 34, 56, 78, 89, 34, 1, 2, 3, 1, 34, 'key2', 55, 67, 78, 89, 4, 45, 22, 61, 34, 56, 'data science']\n",
      "4134711838987085478833841242112000\n"
     ]
    }
   ],
   "source": [
    "def multipy_num(lst):\n",
    "     pro=1\n",
    "     for item in lst:\n",
    "          if type(item) is int:\n",
    "               pro=pro*item\n",
    "     return pro\n",
    "lst = [1,2,3,4, [44,55,66, True], False, (34,56,78,89,34), {1,2,3,3,2,1}, {1:34, \"key2\": \n",
    "        [55, 67, 78, 89], 4: (45,22,61,34)}, [56, 'data science'], 'Machine Learning']\n",
    "flat_lst = []\n",
    "\n",
    "for item in lst:\n",
    "        if isinstance(item, (int, float, complex)):\n",
    "            flat_lst.append(item)\n",
    "        elif isinstance(item, (list, tuple, set)): \n",
    "            \n",
    "              for i in item:\n",
    "                flat_lst.append(i)\n",
    "                 \n",
    "        elif isinstance(item, dict):\n",
    "           \n",
    "            for key, value in item.items():\n",
    "                 flat_lst.append(key)\n",
    "                 if isinstance(value,(list,tuple,set)):\n",
    "                     for i in value:\n",
    "                         flat_lst.append(i)\n",
    "                 else:\n",
    "                    \n",
    "                     flat_lst.append(value)\n",
    "print(flat_lst)\n",
    "print(multipy_num(flat_lst))\n"
   ]
  },
  {
   "attachments": {},
   "cell_type": "markdown",
   "metadata": {},
   "source": [
    "Q2. Write a python program for encrypting a message sent to you by your friend. The logic of encryption\n",
    "should be such that, for a the output should be z. For b, the output should be y. For c, the output should\n",
    "be x respectively. Also, the whitespace should be replaced with a dollar sign. Keep the punctuation\n",
    "marks unchanged.\n"
   ]
  },
  {
   "cell_type": "markdown",
   "metadata": {},
   "source": [
    "Input Sentence: I want to become a Data Scientist.\n"
   ]
  },
  {
   "attachments": {},
   "cell_type": "markdown",
   "metadata": {},
   "source": [
    "Encrypt the above input sentence using the program you just created.\n",
    "\n",
    "Note: Convert the given input sentence into lowercase before encrypting. The final output should be\n",
    "lowercase."
   ]
  },
  {
   "cell_type": "code",
   "execution_count": 5,
   "metadata": {},
   "outputs": [
    {
     "name": "stdout",
     "output_type": "stream",
     "text": [
      "input sentance - i want to become a data scientist.\n",
      "Encoded Sentance is- r$dzmg$gl$yvxlnv$z$wzgz$hxrvmgrhg.\n"
     ]
    }
   ],
   "source": [
    "alphabet_lst=['z','y','x','w','v','u','t','s','r','q','p','o','n','m','l','k','j','i','h','g','f','e','d','c','b','a']\n",
    "sentance=input(\"Enter a string\").lower()\n",
    "print(\"input sentance -\",sentance)\n",
    "encoded_sentance=\"\"\n",
    "for i in sentance:\n",
    "    if i==\" \":\n",
    "        encoded_sentance=encoded_sentance+\"$\"\n",
    "    elif i.isalpha():\n",
    "        encoded_sentance=encoded_sentance+alphabet_lst[ord(i)-97]\n",
    "    else:\n",
    "        encoded_sentance=encoded_sentance+i\n",
    "print(\"Encoded Sentance is-\",encoded_sentance)"
   ]
  }
 ],
 "metadata": {
  "kernelspec": {
   "display_name": "Python 3",
   "language": "python",
   "name": "python3"
  },
  "language_info": {
   "codemirror_mode": {
    "name": "ipython",
    "version": 3
   },
   "file_extension": ".py",
   "mimetype": "text/x-python",
   "name": "python",
   "nbconvert_exporter": "python",
   "pygments_lexer": "ipython3",
   "version": "3.10.10"
  },
  "orig_nbformat": 4
 },
 "nbformat": 4,
 "nbformat_minor": 2
}
