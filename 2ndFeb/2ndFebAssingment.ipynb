{
 "cells": [
  {
   "attachments": {},
   "cell_type": "markdown",
   "metadata": {},
   "source": [
    "2nd Feb Assingment"
   ]
  },
  {
   "cell_type": "code",
   "execution_count": null,
   "metadata": {},
   "outputs": [],
   "source": [
    "# A for loop is used when we know the number of iterations that we need to perfrom to repeat a given task for example \n",
    "# printing first 10 natural numbers \n",
    "\n",
    "# A while loop is used when number of iterations are unknown to us but we know the condition at which the \n",
    "# repeatation needs to stop for example dividing a number by 2 until it is greatear than 4"
   ]
  },
  {
   "cell_type": "code",
   "execution_count": 4,
   "metadata": {},
   "outputs": [
    {
     "name": "stdout",
     "output_type": "stream",
     "text": [
      "Using for loop\n",
      "sum= 55\n",
      "product= 3628800\n",
      "Using while loop\n",
      "sum= 55\n",
      "product= 3628800\n"
     ]
    }
   ],
   "source": [
    "# Q2. Write a python program to print the sum and product of the first 10 natural numbers using for\n",
    "# and while loop.\n",
    "print(\"Using for loop\")\n",
    "s=0\n",
    "p=1\n",
    "for i in range(1,11):\n",
    "    s+=i\n",
    "    p*=i\n",
    "print(\"sum=\",s)\n",
    "print(\"product=\",p)\n",
    "s=0\n",
    "p=1\n",
    "i=1\n",
    "print(\"Using while loop\")\n",
    "while i<=10:\n",
    "  s=s+i\n",
    "  p=p*i\n",
    "  i=i+1 \n",
    "print(\"sum=\",s)\n",
    "print(\"product=\",p)"
   ]
  },
  {
   "cell_type": "code",
   "execution_count": 6,
   "metadata": {},
   "outputs": [
    {
     "name": "stdout",
     "output_type": "stream",
     "text": [
      "Amount payable=Rs. 2250.0\n"
     ]
    }
   ],
   "source": [
    "# Q3. Create a python program to compute the electricity bill for a household. \n",
    "# The per-unit charges in rupees are as follows: For the first 100 units, the user will be charged Rs. 4.5 per  unit, \n",
    "# for the next 100 units, the user will be charged Rs. 6 per unit, and for the next 100 units, \n",
    "# the user will  be charged Rs. 10 per unit, After 300 units and above the user will be charged Rs. 20 per unit. \n",
    "# You are required to take the units of electricity consumed in a month from the user as input. \n",
    "# Your program must pass this test case: when the unit of electricity consumed by the user in a month is  310, \n",
    "# the total electricity bill should be 2250. \n",
    "bill_in_units=int(input(\"Enter the units consumed\"))\n",
    "cost=0\n",
    "if bill_in_units<=100:\n",
    "    cost=bill_in_units*4.5\n",
    "elif 101<=bill_in_units<=200:\n",
    "    cost=(4.5*100)+(bill_in_units-100)*6\n",
    "elif 201<=bill_in_units<=300:\n",
    "    cost=(4.5*100)+(6*100)+(bill_in_units-200)*10\n",
    "else:\n",
    "    cost=(4.5*100)+(6*100)+(10*100)+(bill_in_units-300)*20\n",
    "print(\"Amount payable=Rs.\",cost)"
   ]
  },
  {
   "cell_type": "code",
   "execution_count": 13,
   "metadata": {},
   "outputs": [
    {
     "name": "stdout",
     "output_type": "stream",
     "text": [
      "[8, 64, 125, 216, 512, 1000, 1728, 2744, 3375, 4096, 5832, 8000, 10648, 13824, 15625, 17576, 21952, 27000, 32768, 39304, 42875, 46656, 54872, 64000, 74088, 85184, 91125, 97336, 110592, 125000, 140608, 157464, 166375, 175616, 195112, 216000, 238328, 262144, 274625, 287496, 314432, 343000, 373248, 405224, 421875, 438976, 474552, 512000, 551368, 592704, 614125, 636056, 681472, 729000, 778688, 830584, 857375, 884736, 941192, 1000000]\n"
     ]
    }
   ],
   "source": [
    "# Q4. Create a list of numbers from 1 to 100. Use for loop and while loop to calculate the cube of \n",
    "# each  number and if the cube of that number is divisible by 4 or 5 then append that number \n",
    "# in a list and print  that list.\n",
    "li=[]\n",
    "for i in range(1,101):\n",
    "    count=1\n",
    "    copy=i\n",
    "    while count<3:\n",
    "        i*=copy\n",
    "        count+=1\n",
    "    if i%4==0 or i%5==0:\n",
    "        li.append(i)\n",
    "print(li)\n"
   ]
  },
  {
   "cell_type": "code",
   "execution_count": 17,
   "metadata": {},
   "outputs": [
    {
     "name": "stdout",
     "output_type": "stream",
     "text": [
      "Vowels in given string is= 11\n"
     ]
    }
   ],
   "source": [
    "# Q5.  Write a program to filter count vowels in the below-given string. \n",
    "# string = \"I want to become a data scientist\" \n",
    "s=\"I want to become a data scientist\"\n",
    "count=0\n",
    "\n",
    "for i in s:\n",
    "    if i==\"a\" or i==\"e\" or i==\"i\" or i==\"o\" or i=='u':\n",
    "        count+=1\n",
    "print(\"Vowels in given string is=\",count)"
   ]
  }
 ],
 "metadata": {
  "kernelspec": {
   "display_name": "Python 3",
   "language": "python",
   "name": "python3"
  },
  "language_info": {
   "codemirror_mode": {
    "name": "ipython",
    "version": 3
   },
   "file_extension": ".py",
   "mimetype": "text/x-python",
   "name": "python",
   "nbconvert_exporter": "python",
   "pygments_lexer": "ipython3",
   "version": "3.10.10"
  },
  "orig_nbformat": 4,
  "vscode": {
   "interpreter": {
    "hash": "40dfe96a389213fdc1d1c9ed0288046249d2d538f3a96eab85e0774c6827692a"
   }
  }
 },
 "nbformat": 4,
 "nbformat_minor": 2
}
