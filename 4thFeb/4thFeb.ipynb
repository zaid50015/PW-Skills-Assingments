{
 "cells": [
  {
   "cell_type": "code",
   "execution_count": 8,
   "id": "4c87e69a-36bf-4a99-83f5-26759b2f306d",
   "metadata": {},
   "outputs": [
    {
     "name": "stdout",
     "output_type": "stream",
     "text": [
      "[('Virat Kohli', 24936), ('Jack Kallis', 25534), ('Ricky Ponting', 27483), ('Sachin Tendulkar', 34357)]\n"
     ]
    }
   ],
   "source": [
    "# Q1. Create a python program to sort the given list of tuples based on integer value using a\n",
    "# lambda function.\n",
    "# [('Sachin Tendulkar', 34357), ('Ricky Ponting', 27483), ('Jack Kallis', 25534), ('Virat Kohli', 24936)]\n",
    "order=[('Sachin Tendulkar', 34357), ('Ricky Ponting', 27483), ('Jack Kallis', 25534), ('Virat Kohli', 24936)]\n",
    "order.sort(key=lambda x:x[1])\n",
    "print(order)"
   ]
  },
  {
   "cell_type": "code",
   "execution_count": 10,
   "id": "9250f294-356a-491f-9038-1a7f05a4d5be",
   "metadata": {},
   "outputs": [
    {
     "name": "stdout",
     "output_type": "stream",
     "text": [
      "[1, 4, 9, 16, 25, 36, 49, 64, 81, 100]\n"
     ]
    }
   ],
   "source": [
    "# Q2. Write a Python Program to find the squares of all the numbers in the given list of integers using\n",
    "# lambda and map functions.\n",
    "# [1, 2, 3, 4, 5, 6, 7, 8, 9, 10]\n",
    "l= [1, 2, 3, 4, 5, 6, 7, 8, 9, 10]\n",
    "ans=list(map(lambda x:x**2,l))\n",
    "print(ans)"
   ]
  },
  {
   "cell_type": "code",
   "execution_count": 11,
   "id": "2cb34e32-08be-4571-aa70-a73cb3c7e771",
   "metadata": {},
   "outputs": [
    {
     "name": "stdout",
     "output_type": "stream",
     "text": [
      "['1', '2', '3', '4', '5', '6', '7', '8', '9', '10']\n"
     ]
    }
   ],
   "source": [
    "# Q3. Write a python program to convert the given list of integers into a tuple of strings. Use map and\n",
    "# lambda functions\n",
    "# Given String: [1, 2, 3, 4, 5, 6, 7, 8, 9, 10]\n",
    "# Expected output: ('1', '2', '3', '4', '5', '6', '7', '8', '9', '10')\n",
    "normal_list=[1, 2, 3, 4, 5, 6, 7, 8, 9, 10]\n",
    "string_list=list(map(lambda x:str(x),normal_list))\n",
    "print(string_list)"
   ]
  },
  {
   "cell_type": "code",
   "execution_count": 21,
   "id": "5ee4283c-b5fc-4a73-a83e-78423c52b0c0",
   "metadata": {},
   "outputs": [
    {
     "name": "stdout",
     "output_type": "stream",
     "text": [
      "325\n"
     ]
    }
   ],
   "source": [
    "# Q4. Write a python program using reduce function to compute the product of a list containing numbers\n",
    "# from 1 to 25.\n",
    "\n",
    "import functools\n",
    "number_list=[i for i in range(1,26)]\n",
    "print(functools.reduce(lambda x,y:x+y,number_list))\n",
    "   "
   ]
  },
  {
   "cell_type": "code",
   "execution_count": 24,
   "id": "05b1f3be-1851-4c22-800c-d02571518815",
   "metadata": {},
   "outputs": [
    {
     "name": "stdout",
     "output_type": "stream",
     "text": [
      "[6, 60, 90, 120]\n"
     ]
    }
   ],
   "source": [
    "# Q5. Write a python program to filter the numbers in a given list that are divisible by 2 and 3 using the\n",
    "# filter function.\n",
    "# [2, 3, 6, 9, 27, 60, 90, 120, 55, 46]\n",
    "list_divisible=[2, 3, 6, 9, 27, 60, 90, 120, 55, 46]\n",
    "filtered=filter(lambda x:x%2==0 and  x%3==0,list_divisible)\n",
    "print(list(filtered))"
   ]
  },
  {
   "cell_type": "code",
   "execution_count": 1,
   "id": "0e9b3640-64b8-4f80-9046-134f24f84410",
   "metadata": {},
   "outputs": [
    {
     "name": "stdout",
     "output_type": "stream",
     "text": [
      "['php', 'aba', 'radar', 'level']\n"
     ]
    }
   ],
   "source": [
    "# Q6. Write a python program to find palindromes in the given list of strings using lambda and filter\n",
    "# function.\n",
    "# ['python', 'php', 'aba', 'radar', 'level']\n",
    "\n",
    "check_pallindrome= ['python', 'php', 'aba', 'radar', 'level']\n",
    "pallindrome_list=list(filter(lambda x:x==x[::-1],check_pallindrome))\n",
    "print(pallindrome_list)"
   ]
  }
 ],
 "metadata": {
  "kernelspec": {
   "display_name": "Python 3 (ipykernel)",
   "language": "python",
   "name": "python3"
  },
  "language_info": {
   "codemirror_mode": {
    "name": "ipython",
    "version": 3
   },
   "file_extension": ".py",
   "mimetype": "text/x-python",
   "name": "python",
   "nbconvert_exporter": "python",
   "pygments_lexer": "ipython3",
   "version": "3.10.10"
  }
 },
 "nbformat": 4,
 "nbformat_minor": 5
}
