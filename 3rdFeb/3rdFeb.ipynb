{
 "cells": [
  {
   "cell_type": "code",
   "execution_count": 7,
   "id": "8a7c47a8-7bff-4879-8007-a23e452f7c77",
   "metadata": {},
   "outputs": [
    {
     "name": "stdout",
     "output_type": "stream",
     "text": [
      "[1, 3, 5, 7, 9, 11, 13, 15, 17, 19, 21, 23, 25]\n"
     ]
    }
   ],
   "source": [
    "# Q1. Which keyword is used to create a function? Create a function to return a list of odd numbers in the\n",
    "# range of 1 to 25.\n",
    "\n",
    "# Ans def keyword is use to create a function in python\n",
    "def oddlist():\n",
    "    return [i for i in range(1,26) if i%2!=0]\n",
    "print(oddlist())"
   ]
  },
  {
   "cell_type": "code",
   "execution_count": 12,
   "id": "cfd3a30f-f62a-4973-9ed3-6c629b6b259d",
   "metadata": {},
   "outputs": [
    {
     "name": "stdout",
     "output_type": "stream",
     "text": [
      "(1, 2, 3, 4, 5, 8)\n",
      "{'a': 1, 'b': [7, 8, 9], 'c': 256}\n"
     ]
    }
   ],
   "source": [
    "# Why *args and **kwargs is used in some functions? Create a function each for *args and **kwargs\n",
    "# to demonstrate their use.\n",
    "\n",
    "# Ans *args(where args is not a keyword)- is use to pass n number of data to a function by the user or if the number of arguments passed in functiom\n",
    "# is unknwon the data passed is int the form of tupile\n",
    "\n",
    "# **kargs() - is used to pass n number of data to a function in such a way that they are stored in dictionary form\n",
    "\n",
    "def example1(*args):\n",
    "    return args\n",
    "print(example1(1,2,3,4,5,8))\n",
    "def example2(**kargs):\n",
    "    return kargs\n",
    "print(example2(a=1,b=[7,8,9],c=256))\n"
   ]
  },
  {
   "cell_type": "code",
   "execution_count": 17,
   "id": "56cb392f-ceeb-4444-a3da-b44b45fce8ad",
   "metadata": {},
   "outputs": [
    {
     "name": "stdout",
     "output_type": "stream",
     "text": [
      "2\n",
      "4\n",
      "6\n",
      "8\n",
      "10\n"
     ]
    }
   ],
   "source": [
    "# Q3. What is an iterator in python? Name the method used to initialise the iterator object and the method used for iteration. \n",
    "# Use these methods to print the first five elements of the given list [2, 4, 6, 8, 10, 12, 14, 16, 18, 20].\n",
    "\n",
    "# Ans. An iterator in Python is an object that implements the iterator protocol.It must define two methods:\n",
    "# __iter__() and __next__(). __iter__() returns the iterator object itself and the __next__() method returns the next item from the\n",
    "# sequence of elements.\n",
    "\n",
    "# Here's an example of how you can use the iter() method to initialize the iterator object and the next() method to iterate over the elements:\n",
    "l=[2, 4, 6, 8, 10, 12, 14, 16, 18, 20]\n",
    "iterator_obj=iter(l)\n",
    "for i in range(5):\n",
    "    print(next(iterator_obj))"
   ]
  },
  {
   "cell_type": "code",
   "execution_count": 6,
   "id": "0bcffb61-02b5-41b0-9327-0c1c30931121",
   "metadata": {},
   "outputs": [
    {
     "name": "stdin",
     "output_type": "stream",
     "text": [
      "Enter the range 5\n"
     ]
    },
    {
     "name": "stdout",
     "output_type": "stream",
     "text": [
      "0\n",
      "1\n",
      "2\n",
      "3\n",
      "4\n"
     ]
    }
   ],
   "source": [
    "# Q4. What is a generator function in python? Why yield keyword is used? Give an example of a generator\n",
    "# function.\n",
    "\n",
    "# Ans. A generator function in Python is a special type of function that returns a generator iterator. It uses the yield keyword instead of \n",
    "# return to return multiple values one at a time, instead of all at once.\n",
    "\n",
    "# The yield keyword is used to return a value from the generator function and pause its execution. When the function is called again, \n",
    "# it resumes execution immediately after the yield statement. This allows the generator function to generate an iterable sequence of values, \n",
    "# which can be iterated over in a for loop or using the next() method.\n",
    "\n",
    "# Here's an example of a generator function that generates the sequence of numbers from 0 to n:\n",
    "def generatorFun():\n",
    "    i=0\n",
    "    while True:\n",
    "        yield i\n",
    "        i+=1\n",
    "n=int(input(\"Enter the range\"))\n",
    "seq=generatorFun()\n",
    "for i in range(n):\n",
    "    print(next(seq))"
   ]
  },
  {
   "cell_type": "code",
   "execution_count": 12,
   "id": "c6b6595b-6128-470b-b24e-e0db68dcf175",
   "metadata": {},
   "outputs": [
    {
     "name": "stdout",
     "output_type": "stream",
     "text": [
      "1\n",
      "2\n",
      "3\n",
      "5\n",
      "7\n",
      "11\n",
      "13\n",
      "17\n",
      "19\n",
      "23\n",
      "29\n",
      "31\n",
      "37\n",
      "41\n",
      "43\n",
      "47\n",
      "53\n",
      "59\n",
      "61\n",
      "67\n"
     ]
    }
   ],
   "source": [
    "# Q5. Create a generator function for prime numbers less than 1000. Use the next() method to print the\n",
    "# first 20 prime numbers.\n",
    "\n",
    "# Ans\n",
    "import math\n",
    "def prime_generator():\n",
    "    for i in range (1,1000):\n",
    "        for j in range(2,math.floor(i/2)+1):\n",
    "            if i%j==0:\n",
    "                break\n",
    "        else:\n",
    "            yield i\n",
    "prime_iterator_obj=prime_generator()\n",
    "for i in range(20):\n",
    "    print(next(prime_iterator_obj))"
   ]
  },
  {
   "cell_type": "code",
   "execution_count": 13,
   "id": "21e967ef-6905-4dca-87d1-6a6ad4837220",
   "metadata": {},
   "outputs": [
    {
     "name": "stdout",
     "output_type": "stream",
     "text": [
      "0\n",
      "1\n",
      "1\n",
      "2\n",
      "3\n",
      "5\n",
      "8\n",
      "13\n",
      "21\n",
      "34\n"
     ]
    }
   ],
   "source": [
    "# Q6. Write a python program to print the first 10 Fibonacci numbers using a while loop.\n",
    "a,b=0,1\n",
    "i=0\n",
    "limit=10\n",
    "while i<limit:\n",
    "    print(a)\n",
    "    a,b=b,a+b\n",
    "    i+=1"
   ]
  },
  {
   "cell_type": "code",
   "execution_count": 15,
   "id": "20cd9b25-3419-43ae-bb25-f7a15a69c0b5",
   "metadata": {},
   "outputs": [
    {
     "data": {
      "text/plain": [
       "['p', 'w', 's', 'k', 'i', 'l', 'l', 's']"
      ]
     },
     "execution_count": 15,
     "metadata": {},
     "output_type": "execute_result"
    }
   ],
   "source": [
    "# Q7. Write a List Comprehension to iterate through the given string: ‘pwskills’.\n",
    "# Expected output: ['p', 'w', 's', 'k', 'i', 'l', 'l', 's']\n",
    "q=\"pwskills\"\n",
    "[i for i in q]"
   ]
  },
  {
   "cell_type": "code",
   "execution_count": 22,
   "id": "6e48e066-54af-40b9-b4f6-d4d57087881a",
   "metadata": {},
   "outputs": [
    {
     "name": "stdin",
     "output_type": "stream",
     "text": [
      "Enter a number 212\n"
     ]
    },
    {
     "name": "stdout",
     "output_type": "stream",
     "text": [
      "Pallindrome number\n"
     ]
    }
   ],
   "source": [
    "# Q8. Write a python program to check whether a given number is Palindrome or not using a while loop.\n",
    "\n",
    "n=int(input(\"Enter a number\"))\n",
    "n=str(n)\n",
    "i,j=0,len(n)-1\n",
    "while i<j:\n",
    "    if(n[i]!=n[j]):\n",
    "        print(\"Not Pallindrome number\")\n",
    "        break\n",
    "    i+=1\n",
    "    j-=1\n",
    "else:\n",
    "    print(\"Pallindrome number\")"
   ]
  },
  {
   "cell_type": "code",
   "execution_count": 28,
   "id": "f1eae506-4484-40dd-9877-0db625e3a8cc",
   "metadata": {},
   "outputs": [
    {
     "name": "stdout",
     "output_type": "stream",
     "text": [
      "[1, 3, 5, 7, 9, 11, 13, 15, 17, 19, 21, 23, 25, 27, 29, 31, 33, 35, 37, 39, 41, 43, 45, 47, 49, 51, 53, 55, 57, 59, 61, 63, 65, 67, 69, 71, 73, 75, 77, 79, 81, 83, 85, 87, 89, 91, 93, 95, 97, 99]\n",
      "[1, 3, 5, 7, 9, 11, 13, 15, 17, 19, 21, 23, 25, 27, 29, 31, 33, 35, 37, 39, 41, 43, 45, 47, 49, 51, 53, 55, 57, 59, 61, 63, 65, 67, 69, 71, 73, 75, 77, 79, 81, 83, 85, 87, 89, 91, 93, 95, 97, 99]\n"
     ]
    }
   ],
   "source": [
    "# Q9. Write a code to print odd numbers from 1 to 100 using list comprehension.\n",
    "# Note: Use a list comprehension to create a list from 1 to 100 and use another List comprehension to filter\n",
    "# out odd numbers.\n",
    "\n",
    "#Ans\n",
    "l= [i for i in range(1,101)]\n",
    "print([i for i in l if i%2!=0])\n",
    "\n",
    "#Alternative one liner\n",
    "print([i for i in range(1,101) if i%2!=0])"
   ]
  }
 ],
 "metadata": {
  "kernelspec": {
   "display_name": "Python 3 (ipykernel)",
   "language": "python",
   "name": "python3"
  },
  "language_info": {
   "codemirror_mode": {
    "name": "ipython",
    "version": 3
   },
   "file_extension": ".py",
   "mimetype": "text/x-python",
   "name": "python",
   "nbconvert_exporter": "python",
   "pygments_lexer": "ipython3",
   "version": "3.10.8"
  }
 },
 "nbformat": 4,
 "nbformat_minor": 5
}
