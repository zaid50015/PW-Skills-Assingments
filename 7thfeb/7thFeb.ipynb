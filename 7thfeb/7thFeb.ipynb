{
 "cells": [
  {
   "cell_type": "code",
   "execution_count": 4,
   "id": "17993d25-49e5-45f5-8f9d-183f5c86c8d7",
   "metadata": {},
   "outputs": [
    {
     "name": "stdout",
     "output_type": "stream",
     "text": [
      "Enter your Password ZA2id61*/-\n"
     ]
    },
    {
     "name": "stdout",
     "output_type": "stream",
     "text": [
      "Valid Password\n"
     ]
    }
   ],
   "source": [
    "# Q1. You are writing code for a company. The requirement of the company is that you create a python\n",
    "# function that will check whether the password entered by the user is correct or not. The function should\n",
    "# take the password as input and return the string “Valid Password” if the entered password follows the\n",
    "# below-given password guidelines else it should return “Invalid Password”.\n",
    "\n",
    "# Note: \n",
    "# 1. The Password should contain at least two uppercase letters and at least two lowercase letters.\n",
    "# 2. The Password should contain at least a number and three special characters.\n",
    "# 3. The length of the password should be 10 characters long.\n",
    "\n",
    "def check_valid_password(password):\n",
    "    if len(password)!=10:\n",
    "        return \"Invalid Password\"\n",
    "    lowercount=0\n",
    "    uppercount=0\n",
    "    numbercount=0\n",
    "    specialCharachtercount=0\n",
    "    for ch in password:\n",
    "        if ch.isupper():\n",
    "            uppercount=uppercount+1\n",
    "        elif ch.islower():\n",
    "            lowercount=lowercount+1\n",
    "        elif ch.isdecimal():\n",
    "            numbercount=numbercount+1\n",
    "        elif ch!=\" \":\n",
    "            specialCharachtercount=specialCharachtercount+1\n",
    "    if(uppercount>=2 and lowercount>=2 and numbercount>=1 and specialCharachtercount>=3):\n",
    "        return \"Valid Password\"\n",
    "    else:\n",
    "        return \"Invalid Password\"\n",
    "password=input(\"Enter your Password\")\n",
    "print(check_valid_password(password))"
   ]
  },
  {
   "cell_type": "code",
   "execution_count": 5,
   "id": "a11d5687-c7d7-44df-b687-eb5dc288e08f",
   "metadata": {},
   "outputs": [],
   "source": [
    "# Q2. Solve the below-given questions using at least one of the following:\n",
    "# 1. Lambda function\n",
    "# 2. Filter functioJn\n",
    "# 3. Map function\n",
    "# 4. List Comprehension"
   ]
  },
  {
   "cell_type": "code",
   "execution_count": 6,
   "id": "32e31ad6-f93d-44c0-80b3-f240072a2eeb",
   "metadata": {},
   "outputs": [
    {
     "name": "stdout",
     "output_type": "stream",
     "text": [
      "enter a string zaid\n",
      "enter a letter z\n"
     ]
    },
    {
     "name": "stdout",
     "output_type": "stream",
     "text": [
      "Does the string start with a entered letter\n",
      "True\n"
     ]
    }
   ],
   "source": [
    "# Check if the string starts with a particular letter\n",
    "check=lambda x,y:x==y\n",
    "s=input(\"Enter a string\").lower()\n",
    "l=input(\"Enter a letter\").lower()\n",
    "print(\"Does the string start with a entered letter\")\n",
    "print(check(s[0],l))"
   ]
  },
  {
   "cell_type": "code",
   "execution_count": 7,
   "id": "d98a33f4-a928-4e41-8eb3-029f742fb152",
   "metadata": {},
   "outputs": [
    {
     "name": "stdout",
     "output_type": "stream",
     "text": [
      "Enter a stirng 12\n"
     ]
    },
    {
     "name": "stdout",
     "output_type": "stream",
     "text": [
      "True\n"
     ]
    }
   ],
   "source": [
    "# Check if the string is numeric\n",
    "check2=lambda x:x.isnumeric()\n",
    "s2=input(\"Enter a stirng\")\n",
    "print(\"Is the given string numric\")\n",
    "print(check2(s2))"
   ]
  },
  {
   "cell_type": "code",
   "execution_count": 9,
   "id": "1e93341f-00cb-4e60-a612-f20a5606ee1f",
   "metadata": {},
   "outputs": [
    {
     "name": "stdout",
     "output_type": "stream",
     "text": [
      "[('orange', 80), ('mango', 99), ('grapes', 1000)]\n"
     ]
    }
   ],
   "source": [
    "# Sort a list of tuples having fruit names and their quantity. [(\"mango\",99),(\"orange\",80), (\"grapes\", 1000)]\n",
    "t1=[(\"mango\",99),(\"orange\",80), (\"grapes\", 1000)]\n",
    "t1.sort(reverse=False,key=lambda x:x[1])\n",
    "print(t1)"
   ]
  },
  {
   "cell_type": "code",
   "execution_count": 12,
   "id": "c173d38e-91ba-431a-adc1-c02c3c8a7bff",
   "metadata": {},
   "outputs": [
    {
     "name": "stdout",
     "output_type": "stream",
     "text": [
      "[1, 4, 9, 16, 25, 36, 49, 64, 81, 100]\n"
     ]
    }
   ],
   "source": [
    "# Find the squares of numbers from 1 to 10\n",
    "l1=list([i**2 for i in range(1,11) ])\n",
    "print(l1)"
   ]
  },
  {
   "cell_type": "code",
   "execution_count": 13,
   "id": "3f26b3c1-be91-4d99-8850-f529a789dd1b",
   "metadata": {},
   "outputs": [
    {
     "name": "stdout",
     "output_type": "stream",
     "text": [
      "[1, 8, 27, 64, 125, 216, 343, 512, 729, 1000]\n"
     ]
    }
   ],
   "source": [
    "# Find the cube root of numbers from 1 to 10\n",
    "print(list([i**3 for i in range(1,11) ]))"
   ]
  },
  {
   "cell_type": "code",
   "execution_count": 14,
   "id": "0fecd47b-db3c-4323-bcb3-8c28a71692a5",
   "metadata": {},
   "outputs": [
    {
     "name": "stdout",
     "output_type": "stream",
     "text": [
      "Enter a number 12\n"
     ]
    },
    {
     "name": "stdout",
     "output_type": "stream",
     "text": [
      "Even Number\n"
     ]
    }
   ],
   "source": [
    "# Check if a given number is even\n",
    "is_even=lambda x:x%2==0\n",
    "num=int(input(\"Enter a number\"))\n",
    "print(\"Even Number\" if is_even(num) else \"Odd Number\")"
   ]
  },
  {
   "cell_type": "code",
   "execution_count": 16,
   "id": "ab9741c8-9a79-45e8-8081-66661c95794b",
   "metadata": {},
   "outputs": [
    {
     "name": "stdout",
     "output_type": "stream",
     "text": [
      "[1, 3, 5, 7, 9]\n"
     ]
    }
   ],
   "source": [
    "# Filter odd numbers from the given list.\n",
    "l2=[1,2,3,4,5,6,7,8,9,10]\n",
    "odd_list=list(filter(lambda x: x%2!=0,l2))\n",
    "print(odd_list)"
   ]
  },
  {
   "cell_type": "code",
   "execution_count": 1,
   "id": "e3a1c33e-2532-4f93-8c24-65b3cc0a58a9",
   "metadata": {},
   "outputs": [
    {
     "name": "stdout",
     "output_type": "stream",
     "text": [
      "[1, 2, 3, 4, 5, 6]\n",
      "[-1, -2, -3, -4, -5]\n"
     ]
    }
   ],
   "source": [
    "# Sort a list of integers into positive and negative integers lists.\n",
    "l3=[1,2,3,4,5,6,-1,-2,-3,-4,-5,0]\n",
    "positve_list=list(filter(lambda x: x>0,l3))\n",
    "negative_list=list(filter(lambda x:x<0,l3))\n",
    "print(positve_list)\n",
    "print(negative_list)"
   ]
  }
 ],
 "metadata": {
  "kernelspec": {
   "display_name": "Python 3 (ipykernel)",
   "language": "python",
   "name": "python3"
  },
  "language_info": {
   "codemirror_mode": {
    "name": "ipython",
    "version": 3
   },
   "file_extension": ".py",
   "mimetype": "text/x-python",
   "name": "python",
   "nbconvert_exporter": "python",
   "pygments_lexer": "ipython3",
   "version": "3.10.10"
  }
 },
 "nbformat": 4,
 "nbformat_minor": 5
}
