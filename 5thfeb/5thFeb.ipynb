{
 "cells": [
  {
   "cell_type": "code",
   "execution_count": 9,
   "id": "cfc27dff-5e8a-49ed-b918-a8e85c3ef837",
   "metadata": {},
   "outputs": [
    {
     "data": {
      "text/plain": [
       "('Amit', 7, 25)"
      ]
     },
     "execution_count": 9,
     "metadata": {},
     "output_type": "execute_result"
    }
   ],
   "source": [
    "# Q1. Explain Class and Object with respect to Object-Oriented Programming. Give a suitable example.\n",
    "\n",
    "# CLASS- A class is a blueprint that defines variable and method that are common to all objects and help us to bind data and methods and enhances \n",
    "# code reusibility\n",
    "\n",
    "# OBJECT- An object is an instance of a class\n",
    "\n",
    "class Student:\n",
    "    def __init__(self,name,divison,roll_no):\n",
    "        self.name=name\n",
    "        self.divison=divison\n",
    "        self.roll_no=roll_no\n",
    "    def returning_details(self):\n",
    "        return self.name,self.divison,self.roll_no\n",
    "amit=Student(\"Amit\",7,25)\n",
    "amit.returning_details()\n",
    "\n",
    "# In the above code Student is a class having some atributes wheareas as amit is an obejct of student class"
   ]
  },
  {
   "cell_type": "code",
   "execution_count": 10,
   "id": "93b06f7f-e68d-4333-ade9-29ac8848c2b1",
   "metadata": {},
   "outputs": [],
   "source": [
    "# Q2. Name the four pillars of OOPs.\n",
    "\n",
    "# Four PILLARS of OOPS are:-\n",
    "# 1. ABSTRACTION\n",
    "# 2.ENCAPSULATION\n",
    "# 3.POLYMORPHISIM\n",
    "# 4.INHERITANCE"
   ]
  },
  {
   "cell_type": "code",
   "execution_count": 1,
   "id": "f71d6dcb-4467-4e01-a94a-e4686467d6c8",
   "metadata": {},
   "outputs": [
    {
     "data": {
      "text/plain": [
       "('Amit', 7, 25)"
      ]
     },
     "execution_count": 1,
     "metadata": {},
     "output_type": "execute_result"
    }
   ],
   "source": [
    "# Q3. Explain why the __init__() function is used. Give a suitable example.\n",
    "# init is keyword use for creating a constructor of the class Constructors are used to initializing the object’s state. \n",
    "# The task of constructors is to initialize to the data members of the class when an object of the class is created.\n",
    "class Student:\n",
    "    def __init__(self,name,divison,roll_no):\n",
    "        self.name=name\n",
    "        self.divison=divison\n",
    "        self.roll_no=roll_no\n",
    "    def returning_details(self):\n",
    "        return self.name,self.divison,self.roll_no\n",
    "amit=Student(\"Amit\",7,25)\n",
    "amit.returning_details()\n",
    "# // as soon  as we create object of class Student all init method is invoke without actually calling it"
   ]
  },
  {
   "cell_type": "code",
   "execution_count": 3,
   "id": "73ab5d43-4b06-415c-a700-320c4d92ce4e",
   "metadata": {},
   "outputs": [],
   "source": [
    "# Q4. Why self is used in OOPs?\n",
    "\n",
    "# self represents the instance of the class. By using the “self”  we can access the attributes and methods of the class in python. \n",
    "# It binds the attributes with the given arguments."
   ]
  },
  {
   "cell_type": "code",
   "execution_count": 1,
   "id": "f675292d-2d65-4082-8605-a924782596a5",
   "metadata": {},
   "outputs": [],
   "source": [
    "# Q5 .What is inheritance? Give an example for each type of inheritance.\n",
    "\n",
    "# Inheritance is a fundamental feature of object-oriented programming that enables a class to inherit properties and methods \n",
    "# from a parent class. It allows for the creation of new classes based on existing ones, making code reuse and organization more efficient."
   ]
  },
  {
   "cell_type": "code",
   "execution_count": 6,
   "id": "639bfdb3-2bd7-42aa-96fb-980726a0de0b",
   "metadata": {},
   "outputs": [
    {
     "name": "stdout",
     "output_type": "stream",
     "text": [
      "2021 Honda Civic, 4 doors\n"
     ]
    }
   ],
   "source": [
    "# Single inheritance:\n",
    "class Vehicle:\n",
    "    def __init__(self, make, model, year):\n",
    "        self.make = make\n",
    "        self.model = model\n",
    "        self.year = year\n",
    "\n",
    "    def info(self):\n",
    "        return f\"{self.year} {self.make} {self.model}\"\n",
    "\n",
    "class Car(Vehicle):\n",
    "    def __init__(self, make, model, year, doors):\n",
    "        super().__init__(make, model, year)\n",
    "        self.doors = doors\n",
    "\n",
    "    def info(self):\n",
    "        return f\"{super().info()}, {self.doors} doors\"\n",
    "\n",
    "my_car = Car(\"Honda\", \"Civic\", 2021, 4)\n",
    "print(my_car.info()) \n"
   ]
  },
  {
   "cell_type": "code",
   "execution_count": 7,
   "id": "eebd9052-9482-4274-9192-dacdfe0b7cee",
   "metadata": {},
   "outputs": [
    {
     "name": "stdout",
     "output_type": "stream",
     "text": [
      "Squeak!\n"
     ]
    }
   ],
   "source": [
    "# Multiple inheritance:\n",
    "class Animal:\n",
    "    def __init__(self, name):\n",
    "        self.name = name\n",
    "\n",
    "    def make_sound(self):\n",
    "        pass\n",
    "\n",
    "class Mammal(Animal):\n",
    "    def __init__(self, name):\n",
    "        super().__init__(name)\n",
    "\n",
    "    def give_birth(self):\n",
    "        pass\n",
    "\n",
    "class FlyingAnimal(Animal):\n",
    "    def __init__(self, name):\n",
    "        super().__init__(name)\n",
    "\n",
    "    def fly(self):\n",
    "        pass\n",
    "\n",
    "class Bat(Mammal, FlyingAnimal):\n",
    "    def __init__(self, name):\n",
    "        super().__init__(name)\n",
    "\n",
    "    def make_sound(self):\n",
    "        return \"Squeak!\"\n",
    "\n",
    "my_bat = Bat(\"Fruit Bat\")\n",
    "print(my_bat.make_sound()) \n"
   ]
  },
  {
   "cell_type": "code",
   "execution_count": 8,
   "id": "50ecb692-5206-4389-9140-d789e23b8a55",
   "metadata": {},
   "outputs": [
    {
     "name": "stdout",
     "output_type": "stream",
     "text": [
      "Squeak!\n"
     ]
    }
   ],
   "source": [
    "# Multi-level inheritance\n",
    "class Animal:\n",
    "    def __init__(self, name):\n",
    "        self.name = name\n",
    "\n",
    "    def make_sound(self):\n",
    "        pass\n",
    "\n",
    "class Mammal(Animal):\n",
    "    def __init__(self, name):\n",
    "        super().__init__(name)\n",
    "\n",
    "    def give_birth(self):\n",
    "        pass\n",
    "\n",
    "class Bat(Mammal):\n",
    "    def __init__(self, name):\n",
    "        super().__init__(name)\n",
    "\n",
    "    def make_sound(self):\n",
    "        return \"Squeak!\"\n",
    "\n",
    "my_bat = Bat(\"Fruit Bat\")\n",
    "print(my_bat.make_sound())\n"
   ]
  },
  {
   "cell_type": "code",
   "execution_count": null,
   "id": "a74d11fd-2593-4b9d-9090-18ad939d546b",
   "metadata": {},
   "outputs": [],
   "source": []
  }
 ],
 "metadata": {
  "kernelspec": {
   "display_name": "Python 3 (ipykernel)",
   "language": "python",
   "name": "python3"
  },
  "language_info": {
   "codemirror_mode": {
    "name": "ipython",
    "version": 3
   },
   "file_extension": ".py",
   "mimetype": "text/x-python",
   "name": "python",
   "nbconvert_exporter": "python",
   "pygments_lexer": "ipython3",
   "version": "3.10.8"
  }
 },
 "nbformat": 4,
 "nbformat_minor": 5
}
