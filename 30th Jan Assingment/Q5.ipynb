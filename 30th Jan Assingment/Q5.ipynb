{
 "cells": [
  {
   "cell_type": "code",
   "execution_count": 2,
   "id": "9068f37b-0780-422d-984d-cb0208c84dd2",
   "metadata": {},
   "outputs": [
    {
     "name": "stdout",
     "output_type": "stream",
     "text": [
      "1\n",
      "2\n",
      "3\n",
      "4\n",
      "5\n"
     ]
    }
   ],
   "source": [
    "# 5.Why and When to Use while Loop in Python give a detailed description with example \n",
    "\n",
    "# A while loop is a type of loop in Python that allows you to execute a block of code repeatedly as long as a certain condition is true. It is useful when you want to execute a block of code until a particular condition is satisfied or when you do not know in advance how many times you need to execute the loop.\n",
    "\n",
    "# Here's an example of a while loop that prints the numbers from 1 to 5:\n",
    "i = 1\n",
    "while i <= 5:\n",
    "    print(i)\n",
    "    i = i + 1\n"
   ]
  }
 ],
 "metadata": {
  "kernelspec": {
   "display_name": "Python 3 (ipykernel)",
   "language": "python",
   "name": "python3"
  },
  "language_info": {
   "codemirror_mode": {
    "name": "ipython",
    "version": 3
   },
   "file_extension": ".py",
   "mimetype": "text/x-python",
   "name": "python",
   "nbconvert_exporter": "python",
   "pygments_lexer": "ipython3",
   "version": "3.10.8"
  }
 },
 "nbformat": 4,
 "nbformat_minor": 5
}
