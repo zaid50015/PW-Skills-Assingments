{
 "cells": [
  {
   "cell_type": "code",
   "execution_count": 2,
   "id": "2c9bdbcf-5424-4228-9168-84183c282e79",
   "metadata": {},
   "outputs": [
    {
     "name": "stdin",
     "output_type": "stream",
     "text": [
      "Enter the name of city delhi\n"
     ]
    },
    {
     "name": "stdout",
     "output_type": "stream",
     "text": [
      "Red Fort\n"
     ]
    }
   ],
   "source": [
    "# 3. Accept any city from the user and display monuments of that city. \n",
    "# City        Monument \n",
    "# Delhi       Red Fort \n",
    "# Agra        Taj Mahal \n",
    "# Jaipur      Jal Mahal \n",
    "cityMon={\"Delhi\":\"Red Fort\",\"Agra\":\"Taj Mahal\",\"Jaipur\":\"Jal Mahal\"}\n",
    "cityName=str(input(\"Enter the name of city\"))\n",
    "print(cityMon[cityName.capitalize()])"
   ]
  }
 ],
 "metadata": {
  "kernelspec": {
   "display_name": "Python 3 (ipykernel)",
   "language": "python",
   "name": "python3"
  },
  "language_info": {
   "codemirror_mode": {
    "name": "ipython",
    "version": 3
   },
   "file_extension": ".py",
   "mimetype": "text/x-python",
   "name": "python",
   "nbconvert_exporter": "python",
   "pygments_lexer": "ipython3",
   "version": "3.10.8"
  }
 },
 "nbformat": 4,
 "nbformat_minor": 5
}
