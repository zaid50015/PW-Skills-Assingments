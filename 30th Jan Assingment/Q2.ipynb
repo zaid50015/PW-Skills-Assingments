{
 "cells": [
  {
   "cell_type": "code",
   "execution_count": 12,
   "id": "905e4bdf-638e-49f5-84ea-206cfd6b51a3",
   "metadata": {},
   "outputs": [
    {
     "name": "stdin",
     "output_type": "stream",
     "text": [
      "Enter the cost Price 50000\n"
     ]
    },
    {
     "name": "stdout",
     "output_type": "stream",
     "text": [
      "Tax to be payed: 2500.0\n"
     ]
    }
   ],
   "source": [
    "#2. Write a program to accept the cost price of a bike and display the road tax to be paid according to the following criteria:\n",
    "# TAX              COST PRICE(IN RS)\n",
    "# 15%                  >100000 \n",
    "# 10%                  >50000 and <= 100000 \n",
    "# 5%                    <=50000 \n",
    "costPrice=float(input(\"Enter the cost Price\"))\n",
    "tax=0.0 \n",
    "if costPrice>100000 :\n",
    "    tax=0.15*costPrice\n",
    "elif 50000<costPrice<=100000:\n",
    "    tax=0.1*costPrice\n",
    "else :\n",
    "    tax=0.05*costPrice\n",
    "print(\"Tax to be payed:\",tax)"
   ]
  }
 ],
 "metadata": {
  "kernelspec": {
   "display_name": "Python 3 (ipykernel)",
   "language": "python",
   "name": "python3"
  },
  "language_info": {
   "codemirror_mode": {
    "name": "ipython",
    "version": 3
   },
   "file_extension": ".py",
   "mimetype": "text/x-python",
   "name": "python",
   "nbconvert_exporter": "python",
   "pygments_lexer": "ipython3",
   "version": "3.10.8"
  }
 },
 "nbformat": 4,
 "nbformat_minor": 5
}
