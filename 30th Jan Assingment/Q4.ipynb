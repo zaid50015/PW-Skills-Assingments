{
 "cells": [
  {
   "cell_type": "code",
   "execution_count": 2,
   "id": "44e24a79-c919-4ba5-a5a7-ddec808f2243",
   "metadata": {},
   "outputs": [
    {
     "name": "stdin",
     "output_type": "stream",
     "text": [
      "Enter a number 100\n"
     ]
    },
    {
     "name": "stdout",
     "output_type": "stream",
     "text": [
      "3\n"
     ]
    }
   ],
   "source": [
    "# 4. Check how many times a given number can be divided by 3 before it is less than or equal to 10\n",
    "num=int(input(\"Enter a number\"))\n",
    "count=0;\n",
    "while num>10:\n",
    "    num/=3\n",
    "    count+=1\n",
    "print(count)"
   ]
  }
 ],
 "metadata": {
  "kernelspec": {
   "display_name": "Python 3 (ipykernel)",
   "language": "python",
   "name": "python3"
  },
  "language_info": {
   "codemirror_mode": {
    "name": "ipython",
    "version": 3
   },
   "file_extension": ".py",
   "mimetype": "text/x-python",
   "name": "python",
   "nbconvert_exporter": "python",
   "pygments_lexer": "ipython3",
   "version": "3.10.8"
  }
 },
 "nbformat": 4,
 "nbformat_minor": 5
}
