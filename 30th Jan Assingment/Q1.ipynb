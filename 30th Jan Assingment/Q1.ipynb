{
 "cells": [
  {
   "cell_type": "code",
   "execution_count": 3,
   "id": "56e350a9-7e2a-44b6-9e2c-50941f8c089e",
   "metadata": {},
   "outputs": [
    {
     "name": "stdin",
     "output_type": "stream",
     "text": [
      "Enter your marks 70\n"
     ]
    },
    {
     "name": "stdout",
     "output_type": "stream",
     "text": [
      "C\n"
     ]
    }
   ],
   "source": [
    "##1. Write a program to accept percentage from the user and display the grade according to the following criteria:\n",
    "#Marks              Grade \n",
    "# >90                 A \n",
    "# >80 and <=90        B \n",
    "# >=60 and <=80       C \n",
    "# below 60            D \n",
    "marks=int(input(\"Enter your marks\"))\n",
    "if marks>90:\n",
    "    print(\"A\")\n",
    "elif 80<marks<=90:\n",
    "    print(\"B\")\n",
    "elif 60<=marks<=80:\n",
    "    print(\"C\")\n",
    "else :\n",
    "    print(\"D\");"
   ]
  }
 ],
 "metadata": {
  "kernelspec": {
   "display_name": "Python 3 (ipykernel)",
   "language": "python",
   "name": "python3"
  },
  "language_info": {
   "codemirror_mode": {
    "name": "ipython",
    "version": 3
   },
   "file_extension": ".py",
   "mimetype": "text/x-python",
   "name": "python",
   "nbconvert_exporter": "python",
   "pygments_lexer": "ipython3",
   "version": "3.10.8"
  },
  "toc-showmarkdowntxt": true
 },
 "nbformat": 4,
 "nbformat_minor": 5
}
