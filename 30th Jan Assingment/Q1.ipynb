{
 "cells": [
  {
   "cell_type": "code",
   "execution_count": null,
   "id": "56e350a9-7e2a-44b6-9e2c-50941f8c089e",
   "metadata": {},
   "outputs": [
    {
     "ename": "",
     "evalue": "",
     "output_type": "error",
     "traceback": [
      "\u001b[1;31mRunning cells with 'c:\\Users\\TRY HARD\\AppData\\Local\\Programs\\Python\\Python310\\python.exe' requires the ipykernel package.\n",
      "\u001b[1;31mRun the following command to install 'ipykernel' into the Python environment. \n",
      "\u001b[1;31mCommand: '\"c:/Users/TRY HARD/AppData/Local/Programs/Python/Python310/python.exe\" -m pip install ipykernel -U --user --force-reinstall'"
     ]
    }
   ],
   "source": [
    "##1. Write a program to accept percentage from the user and display the grade according to the following criteria:\n",
    "#Marks              Grade \n",
    "# >90                 A \n",
    "# >80 and <=90        B \n",
    "# >=60 and <=80       C \n",
    "# below 60            D \n",
    "marks=int(input(\"Enter your marks\"))\n",
    "if marks>90:\n",
    "    print(\"A\")\n",
    "elif 80<marks<=90:\n",
    "    print(\"B\")\n",
    "elif 60<=marks<=80:\n",
    "    print(\"C\")\n",
    "else :\n",
    "    print(\"D\");"
   ]
  }
 ],
 "metadata": {
  "kernelspec": {
   "display_name": "Python 3",
   "language": "python",
   "name": "python3"
  },
  "language_info": {
   "codemirror_mode": {
    "name": "ipython",
    "version": 3
   },
   "file_extension": ".py",
   "mimetype": "text/x-python",
   "name": "python",
   "nbconvert_exporter": "python",
   "pygments_lexer": "ipython3",
   "version": "3.10.6"
  },
  "toc-showmarkdowntxt": true,
  "vscode": {
   "interpreter": {
    "hash": "5d0fe2b39c3f6e313bee965053bd5c8fe08566b0e7ee4ab68b2e774a2179d455"
   }
  }
 },
 "nbformat": 4,
 "nbformat_minor": 5
}
